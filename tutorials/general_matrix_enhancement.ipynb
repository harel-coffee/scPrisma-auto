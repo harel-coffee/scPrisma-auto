{
 "cells": [
  {
   "cell_type": "markdown",
   "metadata": {
    "pycharm": {
     "name": "#%%\n"
    }
   },
   "source": [
    "<H1> Enhancement of a general topological signal by scPrisma</h1>\n",
    "\n",
    "In this tutorial, we will demonstrate how to enhance the variance which is explained by a covarainace matrix which is provided by the user.\n",
    "\n",
    "Few design principles for designing theoretical covaraince matrix:\n",
    "1. scPrisma was designed for continoius topologies, and especially circular topology (were we have closed formula for the spectrum). The ideal design way is to create similiar \"toy model\" (has been done for the circular topology in the \"Methods\" section), find its appropriate covariance matrix and perform numerical eigen decomposition. Note: as been writen in the discussion, for complex topologies (other than cyclic) the reconstruction task would be very challenging.\n",
    "2. The covariance matrix should to be symmetric PSD matrix (for enable numerical eigendecomposition) with ones over the diagonal of the matrix.\n",
    "3. In some scenarios, it is recommended to eliminate the dominant eigenvector, particularly when it is an 'offset' eigenvector, as in the case of a cyclic covariance matrix, where the lead eigenvector is a constant eigenvector.\n",
    "\n",
    "The example used in this tutorial is based on mice liver samples which were sequenced at four equally-spaced time points along the day. The data was taken from <a href=\"https://www.nature.com/articles/s42255-020-00323-1\">Droin, Colas, et al. Nature metabolism (2021)</a>. \n"
   ]
  },
  {
   "cell_type": "code",
   "execution_count": 1,
   "metadata": {},
   "outputs": [],
   "source": [
    "import copy\n",
    "import time\n",
    "import matplotlib.pyplot as plt\n",
    "import numpy as np\n",
    "import scPrisma\n",
    "import scanpy as sc\n",
    "n_obs=1000 #number of observations per timepoint\n",
    "import torch\n",
    "import pandas as pd"
   ]
  },
  {
   "cell_type": "markdown",
   "metadata": {},
   "source": [
    "Read the dataset files functions. The data was taken from <a href=\"https://www.nature.com/articles/s42255-020-00323-1\">Droin, Colas, et al. Nature metabolism (2021)</a>."
   ]
  },
  {
   "cell_type": "code",
   "execution_count": 2,
   "metadata": {},
   "outputs": [],
   "source": [
    "def read_cr_single_file_layer(path,layer_path,ZT=\"0\" , n_obs=300):\n",
    "    adata = sc.read_csv(path, delimiter='\\t').T\n",
    "    adata.var_names_make_unique()\n",
    "    adata.obs_names_make_unique()\n",
    "    adata.obs['ZT'] = ZT\n",
    "    layers = cr_layer_read(layer_path)\n",
    "    adata.obs['layer']=layers\n",
    "    sc.pp.subsample(adata,n_obs=n_obs , random_state=123)\n",
    "    return adata\n",
    "\n",
    "def cr_layer_read(path):\n",
    "    df = pd.read_csv(path, delimiter=',' , header=None)\n",
    "    position_matrx = df.to_numpy()\n",
    "    layers_array = np.zeros(position_matrx.shape[0])\n",
    "    for i in range(position_matrx.shape[0]):\n",
    "        layers_array[i]=position_matrx[i,:].argmax()\n",
    "    return layers_array\n",
    "\n",
    "def read_liver_data(n_obs=250):\n",
    "    n_obs=int(n_obs/2)\n",
    "    adata = read_cr_single_file_layer(\"liver/GSM4308343_UMI_tab_ZT00A.txt\", layer_path=\"liver/ZT00A_reco.txt\", ZT=\"0\",\n",
    "                                      n_obs=n_obs)\n",
    "    adata.var_names_make_unique()\n",
    "    adata.obs_names_make_unique()\n",
    "    adata1 = read_cr_single_file_layer(\"liver/GSM4308344_UMI_tab_ZT00B.txt\", layer_path=\"liver/ZT00B_reco.txt\", ZT=\"0\",\n",
    "                                      n_obs=n_obs)\n",
    "    adata1.var_names_make_unique()\n",
    "    adata1.obs_names_make_unique()\n",
    "    adata=adata.concatenate(adata1)\n",
    "    adata.var_names_make_unique()\n",
    "    adata.obs_names_make_unique()\n",
    "    adata2 = read_cr_single_file_layer(\"liver/GSM4308346_UMI_tab_ZT06A.txt\", layer_path=\"liver/ZT06A_reco.txt\", ZT=\"6\",\n",
    "                                      n_obs=n_obs)\n",
    "    adata2.obs_names_make_unique()\n",
    "    adata2.var_names_make_unique()\n",
    "    adata3 = read_cr_single_file_layer(\"liver/GSM4308347_UMI_tab_ZT06B.txt\", layer_path=\"liver/ZT06B_reco.txt\", ZT=\"6\",\n",
    "                                      n_obs=n_obs)\n",
    "    adata3.obs_names_make_unique()\n",
    "    adata3.var_names_make_unique()\n",
    "    adata2=adata2.concatenate(adata3)\n",
    "    adata2.var_names_make_unique()\n",
    "    adata2.obs_names_make_unique()\n",
    "\n",
    "    adata4 = read_cr_single_file_layer(\"liver/GSM4308348_UMI_tab_ZT12A.txt\", layer_path=\"liver/ZT12A_reco.txt\", ZT=\"12\", n_obs=n_obs)\n",
    "    adata4.var_names_make_unique()\n",
    "    adata4.obs_names_make_unique()\n",
    "    adata5 = read_cr_single_file_layer(\"liver/GSM4308349_UMI_tab_ZT12B.txt\", layer_path=\"liver/ZT12B_reco.txt\", ZT=\"12\",\n",
    "                                      n_obs=n_obs)\n",
    "    adata5.var_names_make_unique()\n",
    "    adata5.obs_names_make_unique()\n",
    "    adata4=adata4.concatenate(adata5)\n",
    "    adata4.var_names_make_unique()\n",
    "    adata4.obs_names_make_unique()\n",
    "\n",
    "    adata6 = read_cr_single_file_layer(\"liver/GSM4308351_UMI_tab_ZT18A.txt\", layer_path=\"liver/ZT18A_reco.txt\", ZT=\"18\",\n",
    "                                      n_obs=n_obs)\n",
    "    adata6.var_names_make_unique()\n",
    "    adata6.obs_names_make_unique()\n",
    "    adata7 = read_cr_single_file_layer(\"liver/GSM4308352_UMI_tab_ZT18B.txt\", layer_path=\"liver/ZT18B_reco.txt\", ZT=\"18\",\n",
    "                                      n_obs=n_obs)\n",
    "    adata7.var_names_make_unique()\n",
    "    adata7.obs_names_make_unique()\n",
    "    adata6=adata6.concatenate(adata7)\n",
    "    adata6.var_names_make_unique()\n",
    "    adata6.obs_names_make_unique()\n",
    "\n",
    "    adata = adata.concatenate(adata2, adata4, adata6)\n",
    "    adata.var_names_make_unique()\n",
    "    adata.obs_names_make_unique()\n",
    "    return adata\n"
   ]
  },
  {
   "cell_type": "markdown",
   "metadata": {},
   "source": [
    "<h2>Data read and sorting according to \"Zeitgeber Time\" </h2> <br />\n",
    "The function \"sort_data_crit\" sorts the according to an observation of the field that is inserted as 'crit', in the order of 'crit_list'."
   ]
  },
  {
   "cell_type": "code",
   "execution_count": null,
   "metadata": {},
   "outputs": [],
   "source": [
    "adata = read_liver_data(n_obs) #read data\n",
    "adata = scPrisma.algorithms_torch.sort_data_crit(adata=copy.deepcopy(adata.copy()),crit='ZT',crit_list=['0','6','12','18']) #sort the data according to the timepoints\n",
    "adata"
   ]
  },
  {
   "cell_type": "markdown",
   "metadata": {},
   "source": [
    "<h2>Standard pre-processing</h2> <br />\n",
    "It is recomended to do not scale the data to zero mean"
   ]
  },
  {
   "cell_type": "code",
   "execution_count": null,
   "metadata": {
    "pycharm": {
     "name": "#%%\n"
    },
    "scrolled": true
   },
   "outputs": [],
   "source": [
    "#standard pre-processing\n",
    "sc.pp.filter_genes(adata, min_cells=3)\n",
    "sc.pp.filter_cells(adata, min_genes=500)\n",
    "sc.pp.normalize_per_cell(adata, counts_per_cell_after=1e4)\n",
    "sc.pp.log1p(adata)\n",
    "sc.pp.filter_genes_dispersion(adata, n_top_genes=7000)\n",
    "orig_adata = copy.deepcopy(adata.copy())\n",
    "\n"
   ]
  },
  {
   "cell_type": "markdown",
   "metadata": {},
   "source": [
    "Plotting"
   ]
  },
  {
   "cell_type": "code",
   "execution_count": null,
   "metadata": {},
   "outputs": [],
   "source": [
    "sc.pp.pca(adata)\n",
    "sc.pl.pca(adata, color=['layer','ZT'])"
   ]
  },
  {
   "cell_type": "markdown",
   "metadata": {},
   "source": [
    "<h2>Day-night covariance matrix design<h2>"
   ]
  },
  {
   "cell_type": "code",
   "execution_count": null,
   "metadata": {},
   "outputs": [],
   "source": [
    "cov = np.zeros((adata.shape[0],adata.shape[0]))\n",
    "for i , j in enumerate(adata.obs[\"ZT\"]):\n",
    "        if j=='18' or j=='0':\n",
    "            cov[i,:]+=np.array(adata.obs[\"ZT\"]=='0',dtype=int)\n",
    "            cov[i,:]+=np.array(adata.obs[\"ZT\"]=='18',dtype=int)\n",
    "        else:\n",
    "            cov[i,:]+=np.array(adata.obs[\"ZT\"]=='6',dtype=int)\n",
    "            cov[i,:]+=np.array(adata.obs[\"ZT\"]=='12',dtype=int)\n",
    "plt.imshow(cov)\n",
    "plt.title(\"Day-night covaraince matrix\")\n",
    "plt.show()"
   ]
  },
  {
   "cell_type": "markdown",
   "metadata": {},
   "source": [
    "<h2> Genes inference</h2>\n",
    "Instead of using the exact gene inference algorithm described in the manuscript, we will select a fixed number of genes to retain based on their projection over the theoretical spectrum. This is similar to tuning the regularization parameter so that this number of genes is retained."
   ]
  },
  {
   "cell_type": "code",
   "execution_count": null,
   "metadata": {},
   "outputs": [],
   "source": [
    "D = scPrisma.algorithms_torch.filter_general_genes_by_proj_torch(adata.X,cov,n_genes=1000)"
   ]
  },
  {
   "cell_type": "code",
   "execution_count": null,
   "metadata": {},
   "outputs": [],
   "source": [
    "adata.X = adata.X @ D"
   ]
  },
  {
   "cell_type": "markdown",
   "metadata": {},
   "source": [
    "<h2> Day-night enhancement</h2>"
   ]
  },
  {
   "cell_type": "code",
   "execution_count": null,
   "metadata": {},
   "outputs": [],
   "source": [
    "F = scPrisma.algorithms_torch.enhance_general_covariance_torch(adata.X,cov, iterNum=100,regu=10)"
   ]
  },
  {
   "cell_type": "code",
   "execution_count": null,
   "metadata": {},
   "outputs": [],
   "source": [
    "adata.X = adata.X *F"
   ]
  },
  {
   "cell_type": "code",
   "execution_count": null,
   "metadata": {},
   "outputs": [],
   "source": [
    "sc.pp.pca(adata)\n",
    "sc.pl.pca(adata, color=['layer','ZT','pck1'])"
   ]
  }
 ],
 "metadata": {
  "kernelspec": {
   "display_name": "Python 3 (ipykernel)",
   "language": "python",
   "name": "python3"
  },
  "language_info": {
   "codemirror_mode": {
    "name": "ipython",
    "version": 3
   },
   "file_extension": ".py",
   "mimetype": "text/x-python",
   "name": "python",
   "nbconvert_exporter": "python",
   "pygments_lexer": "ipython3",
   "version": "3.10.8"
  }
 },
 "nbformat": 4,
 "nbformat_minor": 1
}
